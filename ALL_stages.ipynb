{
 "cells": [
  {
   "cell_type": "code",
   "execution_count": null,
   "id": "af5e4be7-f4bd-47d7-97a4-294c1bb3c7e3",
   "metadata": {},
   "outputs": [],
   "source": [
    "!pip install pandas\n",
    "!pip install missingno\n",
    "!pip install sklearn\n",
    "!pip install scikit-learn"
   ]
  },
  {
   "cell_type": "code",
   "execution_count": 1,
   "id": "d8f8da8f-de99-4a9f-858a-a54437d51af6",
   "metadata": {},
   "outputs": [],
   "source": [
    "import pandas as pd\n",
    "import numpy as np\n",
    "import pickle\n",
    "import missingno as msno\n",
    "\n",
    "from sklearn.model_selection import train_test_split"
   ]
  },
  {
   "cell_type": "markdown",
   "id": "c1178339",
   "metadata": {},
   "source": [
    "## Загрузка"
   ]
  },
  {
   "cell_type": "code",
   "execution_count": 6,
   "id": "c703ab87",
   "metadata": {},
   "outputs": [],
   "source": [
    "with open('data/ga_hits-002.pkl', 'rb') as f:\n",
    "    df_hits = pickle.load(f)\n",
    "with open('data/ga_sessions.pkl', 'rb') as f:\n",
    "    df_sessions = pickle.load(f)\n",
    "\n",
    "df = pd.merge(df_sessions, df_hits, on=['session_id','session_id']) #объединили две таблицы\n",
    "\n",
    "target = ['sub_car_claim_click', \n",
    "          'sub_car_claim_submit_click',\n",
    "          'sub_open_dialog_click', \n",
    "          'sub_custom_question_submit_click',\n",
    "          'sub_call_number_click', \n",
    "          'sub_callback_submit_click', \n",
    "          'sub_submit_success',\n",
    "          'sub_car_request_submit_click'\n",
    "         ]\n",
    "\n",
    "#колонка с таргетом\n",
    "df['target'] = df.apply(lambda x: 1 if x.event_action in target else 0, axis=1)\n",
    "df = df.drop(columns='event_action')\n",
    "\n",
    "#Разделим датасет на тренировочную и валидационную выборку\n",
    "dftrain, dfvalidate = train_test_split(df, stratify=df['target'], test_size=0.3, random_state=42)"
   ]
  },
  {
   "cell_type": "markdown",
   "id": "02bc6fef",
   "metadata": {},
   "source": [
    "## Data Understanding"
   ]
  },
  {
   "cell_type": "code",
   "execution_count": 7,
   "id": "9602a8a4-2b1d-412c-baec-77a2452241a5",
   "metadata": {},
   "outputs": [],
   "source": [
    "#столбцы выглядят бесполезными\n",
    "dftrain = dftrain.drop(columns=['session_id', 'client_id', 'utm_keyword', 'event_label', 'hit_referer', 'hit_type', 'event_category'])\n",
    "\n",
    "#косвенно связанно с target - event_category\n",
    "\n",
    "#Пропущено много данных\n",
    "dftrain = dftrain.drop(columns=['device_model', 'hit_time', 'device_os', 'event_value', 'device_brand']) \n",
    "\n",
    "#преобразование к дате\n",
    "dftrain.visit_date = pd.to_datetime(dftrain.visit_date, utc=True) \n",
    "dftrain.hit_date = pd.to_datetime(dftrain.hit_date, utc=True)"
   ]
  },
  {
   "cell_type": "markdown",
   "id": "5b86347b-cc1a-4beb-b150-8844146da7dc",
   "metadata": {},
   "source": [
    "## Data Cleaning"
   ]
  },
  {
   "cell_type": "code",
   "execution_count": 8,
   "id": "d138569e-d372-4db7-95d1-b789ad48216b",
   "metadata": {},
   "outputs": [
    {
     "name": "stdout",
     "output_type": "stream",
     "text": [
      "Количество выбросов: 734567 = 6.7%\n"
     ]
    },
    {
     "name": "stderr",
     "output_type": "stream",
     "text": [
      "C:\\Users\\user\\AppData\\Local\\Temp\\ipykernel_6464\\3721395672.py:18: SettingWithCopyWarning: \n",
      "A value is trying to be set on a copy of a slice from a DataFrame\n",
      "\n",
      "See the caveats in the documentation: https://pandas.pydata.org/pandas-docs/stable/user_guide/indexing.html#returning-a-view-versus-a-copy\n",
      "  data.loc[data < boundaries[0]] = boundaries[0]\n",
      "C:\\Users\\user\\AppData\\Local\\Temp\\ipykernel_6464\\3721395672.py:19: SettingWithCopyWarning: \n",
      "A value is trying to be set on a copy of a slice from a DataFrame\n",
      "\n",
      "See the caveats in the documentation: https://pandas.pydata.org/pandas-docs/stable/user_guide/indexing.html#returning-a-view-versus-a-copy\n",
      "  data.loc[data > boundaries[1]] = boundaries[1]\n"
     ]
    },
    {
     "name": "stdout",
     "output_type": "stream",
     "text": [
      "Количество выбросов: 992655 = 9.0%\n"
     ]
    },
    {
     "name": "stderr",
     "output_type": "stream",
     "text": [
      "C:\\Users\\user\\AppData\\Local\\Temp\\ipykernel_6464\\3721395672.py:18: SettingWithCopyWarning: \n",
      "A value is trying to be set on a copy of a slice from a DataFrame\n",
      "\n",
      "See the caveats in the documentation: https://pandas.pydata.org/pandas-docs/stable/user_guide/indexing.html#returning-a-view-versus-a-copy\n",
      "  data.loc[data < boundaries[0]] = boundaries[0]\n"
     ]
    }
   ],
   "source": [
    "#Очистка числовых выбросов\n",
    "def calculate_outliers(data):\n",
    "    q25 = data.quantile(0.25)\n",
    "    q75 = data.quantile(0.75)\n",
    "    iqr = q75 - q25\n",
    "    boundaries = (q25 - 1.5 * iqr, q75 + 1.5 * iqr)\n",
    "    return boundaries\n",
    "\n",
    "def outliers_num(df, data, boundaries):\n",
    "    out = (data < boundaries[0]) | (data > boundaries[1])\n",
    "    print('Количество выбросов:', df[out].shape[0], f'= {(df[out].shape[0]/len(data) * 100):.1f}%')\n",
    "    return df[out].shape[0]\n",
    "\n",
    "def remove_outliers(df, data):\n",
    "    boundaries = calculate_outliers(data)\n",
    "    if outliers_num(df, data, boundaries)/len(data) > 1:\n",
    "        return df.loc[(data >= boundaries[0]) & (data <= boundaries[1])]\n",
    "    data.loc[data < boundaries[0]] = boundaries[0]\n",
    "    data.loc[data > boundaries[1]] = boundaries[1]\n",
    "    return df\n",
    "\n",
    "\n",
    "#Применение\n",
    "clear = ['hit_number', 'visit_number']\n",
    "\n",
    "for elem in clear:\n",
    " dftrain = remove_outliers(dftrain, dftrain[elem])"
   ]
  },
  {
   "cell_type": "code",
   "execution_count": 9,
   "id": "a5aa5e5d-662a-4a5a-8737-adbc12c67535",
   "metadata": {},
   "outputs": [],
   "source": [
    "#Удалили пропуски в device_browser\n",
    "dftrain = dftrain.loc[dftrain.device_browser != '(not set)']\n",
    "#Удалили пропуски в geo_city (<4% выборки, кажется, что город может быть важен для модели и не хочется все заполнять Москвой)\n",
    "dftrain = dftrain.loc[dftrain.geo_city != '(not set)']"
   ]
  },
  {
   "cell_type": "code",
   "execution_count": 10,
   "id": "7134d4e5-7e62-45df-ae64-a362c78229ed",
   "metadata": {},
   "outputs": [],
   "source": [
    "#Восстанавливаем utm_medium по utm_campaign\n",
    "#utm_campaign == LTuZkdKfxRGVceoWkVyg для всех (none) и (not set) из utm_medium \n",
    "#Мода значения utm_medium для utm_campaign == 'LTuZkdKfxRGVceoWkVyg' - это referral\n",
    "#Заменим (none) и (not set) на referral\n",
    "\n",
    "dftrain.loc[dftrain['utm_medium'] == '(none)', 'utm_medium'] = 'referral'\n",
    "dftrain.loc[dftrain['utm_medium'] == '(not set)', 'utm_medium'] = 'referral'\n",
    "\n",
    "#в них больше нет необходимости\n",
    "dftrain = dftrain.drop(columns=['utm_source', 'utm_campaign', 'utm_adcontent'])"
   ]
  },
  {
   "cell_type": "code",
   "execution_count": 11,
   "id": "d7ed0e44-0c03-453a-96b1-49a38db36217",
   "metadata": {},
   "outputs": [],
   "source": [
    "#Работа с категориальными признаками. \n",
    "#--------------------------------------------------------------------------------------------------------------------------------------\n",
    "#utm_medium. Оставляем самые большие категории\n",
    "dftrain['utm_medium'] = dftrain.apply(lambda x: 'referral' if x.utm_medium == 'referral' else\n",
    "                                                'banner'   if x.utm_medium == 'banner'   else\n",
    "                                                'cpc'      if x.utm_medium == 'cpc'      else 'other', axis=1)\n",
    "#--------------------------------------------------------------------------------------------------------------------------------------\n",
    "#Разрешение экрана преобразовать в категориальный признак\n",
    "dftrain['screen_resolution_x'] = dftrain.apply(lambda x: int(x.device_screen_resolution.split('x')[0]), axis=1)\n",
    "dftrain['screen_resolution_y'] = dftrain.apply(lambda x: int(x.device_screen_resolution.split('x')[1]), axis=1)\n",
    "dftrain = dftrain.drop(columns='device_screen_resolution')\n",
    "#!!!!!!!!!!!!!!!!! TOCHANGE попробовать изменить порядок ветвлений !!!!!!!!!!!!!!!!!!!!!!!\n",
    "dftrain['screen_resolution_cat'] = dftrain.apply(lambda x: '8k'     if x.screen_resolution_x >= 7680 and x.screen_resolution_y >= 4320 else\n",
    "                                                           '4k'     if x.screen_resolution_x >= 3840 and x.screen_resolution_y >= 2160 else\n",
    "                                                           '2k'     if x.screen_resolution_x >= 2560 and x.screen_resolution_y >= 1440 else\n",
    "                                                           'fullhd' if x.screen_resolution_x >= 1920 and x.screen_resolution_y >= 1080 else\n",
    "                                                           'hd'     if x.screen_resolution_x >= 1280 and x.screen_resolution_y >= 720  else 'mobile', axis=1)\n",
    "dftrain = dftrain.drop(columns=['screen_resolution_x', 'screen_resolution_y'])\n",
    "#--------------------------------------------------------------------------------------------------------------------------------------\n",
    "#device_browser. Оставляем самые большие категории\n",
    "dftrain['device_browser'] = dftrain.apply(lambda x: 'Chrome'    if x.device_browser == 'Chrome'    else\n",
    "                                                    'Safari'    if x.device_browser == 'Safari'    else\n",
    "                                                    'YaBrowser' if x.device_browser == 'YaBrowser' else 'other', axis=1)\n",
    "#--------------------------------------------------------------------------------------------------------------------------------------\n",
    "#geo_city. Оставляем самые большие категории\n",
    "dftrain.loc[:, 'geo_city'] = dftrain.apply(lambda x: 'Moscow'           if x.geo_city == 'Moscow'           else\n",
    "                                                     'Saint_Petersburg' if x.geo_city == 'Saint Petersburg' else 'other', axis=1)\n",
    "#--------------------------------------------------------------------------------------------------------------------------------------\n",
    "#hit_page_path. Оставляем самые большие категории\n",
    "dftrain['hit_page_path'] = dftrain.apply(lambda x: x.hit_page_path.split('/')[0], axis=1)\n",
    "\n",
    "dftrain.loc[:, 'hit_page_path'] = dftrain.apply(lambda x: 'sberauto.com'          if x.hit_page_path == 'sberauto.com'          else\n",
    "                                                          'podpiska.sberauto.com' if x.hit_page_path == 'podpiska.sberauto.com' else 'other', axis=1)"
   ]
  },
  {
   "cell_type": "markdown",
   "id": "9080d119-2889-4231-b31a-43d9ea16f1ae",
   "metadata": {},
   "source": [
    "## Feature Engineering"
   ]
  },
  {
   "cell_type": "code",
   "execution_count": 2,
   "id": "970e6f88-d2af-4fa7-a38e-15dfd767d4c4",
   "metadata": {},
   "outputs": [],
   "source": [
    "from sklearn.preprocessing import StandardScaler\n",
    "from sklearn.preprocessing import OneHotEncoder"
   ]
  },
  {
   "cell_type": "code",
   "execution_count": 12,
   "id": "7a378aa8-a45a-4e73-a14c-aec45f2375f0",
   "metadata": {},
   "outputs": [
    {
     "ename": "AttributeError",
     "evalue": "'Timestamp' object has no attribute 'dt'",
     "output_type": "error",
     "traceback": [
      "\u001b[1;31m---------------------------------------------------------------------------\u001b[0m",
      "\u001b[1;31mAttributeError\u001b[0m                            Traceback (most recent call last)",
      "Cell \u001b[1;32mIn[12], line 8\u001b[0m\n\u001b[0;32m      5\u001b[0m dftrain[\u001b[38;5;124m'\u001b[39m\u001b[38;5;124mvisit_month\u001b[39m\u001b[38;5;124m'\u001b[39m] \u001b[38;5;241m=\u001b[39m dftrain\u001b[38;5;241m.\u001b[39mvisit_date\u001b[38;5;241m.\u001b[39mdt\u001b[38;5;241m.\u001b[39mmonth\n\u001b[0;32m      6\u001b[0m dftrain[\u001b[38;5;124m'\u001b[39m\u001b[38;5;124mhit_month\u001b[39m\u001b[38;5;124m'\u001b[39m] \u001b[38;5;241m=\u001b[39m dftrain\u001b[38;5;241m.\u001b[39mhit_date\u001b[38;5;241m.\u001b[39mdt\u001b[38;5;241m.\u001b[39mmonth\n\u001b[1;32m----> 8\u001b[0m dftrain\u001b[38;5;241m.\u001b[39mloc[:, \u001b[38;5;124m'\u001b[39m\u001b[38;5;124mhit_week\u001b[39m\u001b[38;5;124m'\u001b[39m] \u001b[38;5;241m=\u001b[39m \u001b[43mdftrain\u001b[49m\u001b[38;5;241;43m.\u001b[39;49m\u001b[43mapply\u001b[49m\u001b[43m(\u001b[49m\u001b[38;5;28;43;01mlambda\u001b[39;49;00m\u001b[43m \u001b[49m\u001b[43mx\u001b[49m\u001b[43m:\u001b[49m\u001b[43m \u001b[49m\u001b[38;5;241;43m1\u001b[39;49m\u001b[43m \u001b[49m\u001b[38;5;28;43;01mif\u001b[39;49;00m\u001b[43m \u001b[49m\u001b[43mx\u001b[49m\u001b[38;5;241;43m.\u001b[39;49m\u001b[43mhit_date\u001b[49m\u001b[38;5;241;43m.\u001b[39;49m\u001b[43mdt\u001b[49m\u001b[38;5;241;43m.\u001b[39;49m\u001b[43mday\u001b[49m\u001b[43m \u001b[49m\u001b[38;5;241;43m<\u001b[39;49m\u001b[43m \u001b[49m\u001b[38;5;241;43m7\u001b[39;49m\u001b[43m  \u001b[49m\u001b[38;5;28;43;01melse\u001b[39;49;00m\n\u001b[0;32m      9\u001b[0m \u001b[43m                                                     \u001b[49m\u001b[38;5;241;43m2\u001b[39;49m\u001b[43m \u001b[49m\u001b[38;5;28;43;01mif\u001b[39;49;00m\u001b[43m \u001b[49m\u001b[43mx\u001b[49m\u001b[38;5;241;43m.\u001b[39;49m\u001b[43mhit_date\u001b[49m\u001b[38;5;241;43m.\u001b[39;49m\u001b[43mdt\u001b[49m\u001b[38;5;241;43m.\u001b[39;49m\u001b[43mday\u001b[49m\u001b[43m \u001b[49m\u001b[38;5;241;43m<\u001b[39;49m\u001b[43m \u001b[49m\u001b[38;5;241;43m15\u001b[39;49m\u001b[43m \u001b[49m\u001b[38;5;28;43;01melse\u001b[39;49;00m\n\u001b[0;32m     10\u001b[0m \u001b[43m                                                     \u001b[49m\u001b[38;5;241;43m3\u001b[39;49m\u001b[43m \u001b[49m\u001b[38;5;28;43;01mif\u001b[39;49;00m\u001b[43m \u001b[49m\u001b[43mx\u001b[49m\u001b[38;5;241;43m.\u001b[39;49m\u001b[43mhit_date\u001b[49m\u001b[38;5;241;43m.\u001b[39;49m\u001b[43mdt\u001b[49m\u001b[38;5;241;43m.\u001b[39;49m\u001b[43mday\u001b[49m\u001b[43m \u001b[49m\u001b[38;5;241;43m<\u001b[39;49m\u001b[43m \u001b[49m\u001b[38;5;241;43m22\u001b[39;49m\u001b[43m \u001b[49m\u001b[38;5;28;43;01melse\u001b[39;49;00m\u001b[43m \u001b[49m\u001b[38;5;241;43m4\u001b[39;49m\u001b[43m,\u001b[49m\u001b[43m \u001b[49m\u001b[43maxis\u001b[49m\u001b[38;5;241;43m=\u001b[39;49m\u001b[38;5;241;43m1\u001b[39;49m\u001b[43m)\u001b[49m\n\u001b[0;32m     12\u001b[0m dftrain\u001b[38;5;241m.\u001b[39mloc[:, \u001b[38;5;124m'\u001b[39m\u001b[38;5;124mvisit_week\u001b[39m\u001b[38;5;124m'\u001b[39m] \u001b[38;5;241m=\u001b[39m dftrain\u001b[38;5;241m.\u001b[39mapply(\u001b[38;5;28;01mlambda\u001b[39;00m x: \u001b[38;5;241m1\u001b[39m \u001b[38;5;28;01mif\u001b[39;00m x\u001b[38;5;241m.\u001b[39mvisit_date\u001b[38;5;241m.\u001b[39mdt\u001b[38;5;241m.\u001b[39mday \u001b[38;5;241m<\u001b[39m \u001b[38;5;241m7\u001b[39m  \u001b[38;5;28;01melse\u001b[39;00m\n\u001b[0;32m     13\u001b[0m                                                        \u001b[38;5;241m2\u001b[39m \u001b[38;5;28;01mif\u001b[39;00m x\u001b[38;5;241m.\u001b[39mvisit_date\u001b[38;5;241m.\u001b[39mdt\u001b[38;5;241m.\u001b[39mday \u001b[38;5;241m<\u001b[39m \u001b[38;5;241m15\u001b[39m \u001b[38;5;28;01melse\u001b[39;00m\n\u001b[0;32m     14\u001b[0m                                                        \u001b[38;5;241m3\u001b[39m \u001b[38;5;28;01mif\u001b[39;00m x\u001b[38;5;241m.\u001b[39mvisit_date\u001b[38;5;241m.\u001b[39mdt\u001b[38;5;241m.\u001b[39mday \u001b[38;5;241m<\u001b[39m \u001b[38;5;241m22\u001b[39m \u001b[38;5;28;01melse\u001b[39;00m \u001b[38;5;241m4\u001b[39m, axis\u001b[38;5;241m=\u001b[39m\u001b[38;5;241m1\u001b[39m)\n\u001b[0;32m     16\u001b[0m dftrain\u001b[38;5;241m.\u001b[39mloc[:, \u001b[38;5;124m'\u001b[39m\u001b[38;5;124mvisit_time\u001b[39m\u001b[38;5;124m'\u001b[39m] \u001b[38;5;241m=\u001b[39m dftrain\u001b[38;5;241m.\u001b[39mapply(\u001b[38;5;28;01mlambda\u001b[39;00m x: \u001b[38;5;124m'\u001b[39m\u001b[38;5;124mnight\u001b[39m\u001b[38;5;124m'\u001b[39m   \u001b[38;5;28;01mif\u001b[39;00m x\u001b[38;5;241m.\u001b[39mvisit_time\u001b[38;5;241m.\u001b[39mhour \u001b[38;5;241m>\u001b[39m \u001b[38;5;241m0\u001b[39m  \u001b[38;5;129;01mand\u001b[39;00m x\u001b[38;5;241m.\u001b[39mvisit_time\u001b[38;5;241m.\u001b[39mhour \u001b[38;5;241m<\u001b[39m \u001b[38;5;241m7\u001b[39m  \u001b[38;5;28;01melse\u001b[39;00m\n\u001b[0;32m     17\u001b[0m                                                        \u001b[38;5;124m'\u001b[39m\u001b[38;5;124mmorning\u001b[39m\u001b[38;5;124m'\u001b[39m \u001b[38;5;28;01mif\u001b[39;00m x\u001b[38;5;241m.\u001b[39mvisit_time\u001b[38;5;241m.\u001b[39mhour \u001b[38;5;241m>\u001b[39m \u001b[38;5;241m6\u001b[39m  \u001b[38;5;129;01mand\u001b[39;00m x\u001b[38;5;241m.\u001b[39mvisit_time\u001b[38;5;241m.\u001b[39mhour \u001b[38;5;241m<\u001b[39m \u001b[38;5;241m13\u001b[39m \u001b[38;5;28;01melse\u001b[39;00m\n\u001b[0;32m     18\u001b[0m                                                        \u001b[38;5;124m'\u001b[39m\u001b[38;5;124mday\u001b[39m\u001b[38;5;124m'\u001b[39m     \u001b[38;5;28;01mif\u001b[39;00m x\u001b[38;5;241m.\u001b[39mvisit_time\u001b[38;5;241m.\u001b[39mhour \u001b[38;5;241m>\u001b[39m \u001b[38;5;241m12\u001b[39m \u001b[38;5;129;01mand\u001b[39;00m x\u001b[38;5;241m.\u001b[39mvisit_time\u001b[38;5;241m.\u001b[39mhour \u001b[38;5;241m<\u001b[39m \u001b[38;5;241m19\u001b[39m \u001b[38;5;28;01melse\u001b[39;00m \u001b[38;5;124m'\u001b[39m\u001b[38;5;124mevening\u001b[39m\u001b[38;5;124m'\u001b[39m, axis\u001b[38;5;241m=\u001b[39m\u001b[38;5;241m1\u001b[39m)\n",
      "File \u001b[1;32m~\\Course\\DS_project\\lib\\site-packages\\pandas\\core\\frame.py:9423\u001b[0m, in \u001b[0;36mDataFrame.apply\u001b[1;34m(self, func, axis, raw, result_type, args, **kwargs)\u001b[0m\n\u001b[0;32m   9412\u001b[0m \u001b[38;5;28;01mfrom\u001b[39;00m \u001b[38;5;21;01mpandas\u001b[39;00m\u001b[38;5;21;01m.\u001b[39;00m\u001b[38;5;21;01mcore\u001b[39;00m\u001b[38;5;21;01m.\u001b[39;00m\u001b[38;5;21;01mapply\u001b[39;00m \u001b[38;5;28;01mimport\u001b[39;00m frame_apply\n\u001b[0;32m   9414\u001b[0m op \u001b[38;5;241m=\u001b[39m frame_apply(\n\u001b[0;32m   9415\u001b[0m     \u001b[38;5;28mself\u001b[39m,\n\u001b[0;32m   9416\u001b[0m     func\u001b[38;5;241m=\u001b[39mfunc,\n\u001b[1;32m   (...)\u001b[0m\n\u001b[0;32m   9421\u001b[0m     kwargs\u001b[38;5;241m=\u001b[39mkwargs,\n\u001b[0;32m   9422\u001b[0m )\n\u001b[1;32m-> 9423\u001b[0m \u001b[38;5;28;01mreturn\u001b[39;00m \u001b[43mop\u001b[49m\u001b[38;5;241;43m.\u001b[39;49m\u001b[43mapply\u001b[49m\u001b[43m(\u001b[49m\u001b[43m)\u001b[49m\u001b[38;5;241m.\u001b[39m__finalize__(\u001b[38;5;28mself\u001b[39m, method\u001b[38;5;241m=\u001b[39m\u001b[38;5;124m\"\u001b[39m\u001b[38;5;124mapply\u001b[39m\u001b[38;5;124m\"\u001b[39m)\n",
      "File \u001b[1;32m~\\Course\\DS_project\\lib\\site-packages\\pandas\\core\\apply.py:678\u001b[0m, in \u001b[0;36mFrameApply.apply\u001b[1;34m(self)\u001b[0m\n\u001b[0;32m    675\u001b[0m \u001b[38;5;28;01melif\u001b[39;00m \u001b[38;5;28mself\u001b[39m\u001b[38;5;241m.\u001b[39mraw:\n\u001b[0;32m    676\u001b[0m     \u001b[38;5;28;01mreturn\u001b[39;00m \u001b[38;5;28mself\u001b[39m\u001b[38;5;241m.\u001b[39mapply_raw()\n\u001b[1;32m--> 678\u001b[0m \u001b[38;5;28;01mreturn\u001b[39;00m \u001b[38;5;28;43mself\u001b[39;49m\u001b[38;5;241;43m.\u001b[39;49m\u001b[43mapply_standard\u001b[49m\u001b[43m(\u001b[49m\u001b[43m)\u001b[49m\n",
      "File \u001b[1;32m~\\Course\\DS_project\\lib\\site-packages\\pandas\\core\\apply.py:798\u001b[0m, in \u001b[0;36mFrameApply.apply_standard\u001b[1;34m(self)\u001b[0m\n\u001b[0;32m    797\u001b[0m \u001b[38;5;28;01mdef\u001b[39;00m \u001b[38;5;21mapply_standard\u001b[39m(\u001b[38;5;28mself\u001b[39m):\n\u001b[1;32m--> 798\u001b[0m     results, res_index \u001b[38;5;241m=\u001b[39m \u001b[38;5;28;43mself\u001b[39;49m\u001b[38;5;241;43m.\u001b[39;49m\u001b[43mapply_series_generator\u001b[49m\u001b[43m(\u001b[49m\u001b[43m)\u001b[49m\n\u001b[0;32m    800\u001b[0m     \u001b[38;5;66;03m# wrap results\u001b[39;00m\n\u001b[0;32m    801\u001b[0m     \u001b[38;5;28;01mreturn\u001b[39;00m \u001b[38;5;28mself\u001b[39m\u001b[38;5;241m.\u001b[39mwrap_results(results, res_index)\n",
      "File \u001b[1;32m~\\Course\\DS_project\\lib\\site-packages\\pandas\\core\\apply.py:814\u001b[0m, in \u001b[0;36mFrameApply.apply_series_generator\u001b[1;34m(self)\u001b[0m\n\u001b[0;32m    811\u001b[0m \u001b[38;5;28;01mwith\u001b[39;00m option_context(\u001b[38;5;124m\"\u001b[39m\u001b[38;5;124mmode.chained_assignment\u001b[39m\u001b[38;5;124m\"\u001b[39m, \u001b[38;5;28;01mNone\u001b[39;00m):\n\u001b[0;32m    812\u001b[0m     \u001b[38;5;28;01mfor\u001b[39;00m i, v \u001b[38;5;129;01min\u001b[39;00m \u001b[38;5;28menumerate\u001b[39m(series_gen):\n\u001b[0;32m    813\u001b[0m         \u001b[38;5;66;03m# ignore SettingWithCopy here in case the user mutates\u001b[39;00m\n\u001b[1;32m--> 814\u001b[0m         results[i] \u001b[38;5;241m=\u001b[39m \u001b[38;5;28;43mself\u001b[39;49m\u001b[38;5;241;43m.\u001b[39;49m\u001b[43mf\u001b[49m\u001b[43m(\u001b[49m\u001b[43mv\u001b[49m\u001b[43m)\u001b[49m\n\u001b[0;32m    815\u001b[0m         \u001b[38;5;28;01mif\u001b[39;00m \u001b[38;5;28misinstance\u001b[39m(results[i], ABCSeries):\n\u001b[0;32m    816\u001b[0m             \u001b[38;5;66;03m# If we have a view on v, we need to make a copy because\u001b[39;00m\n\u001b[0;32m    817\u001b[0m             \u001b[38;5;66;03m#  series_generator will swap out the underlying data\u001b[39;00m\n\u001b[0;32m    818\u001b[0m             results[i] \u001b[38;5;241m=\u001b[39m results[i]\u001b[38;5;241m.\u001b[39mcopy(deep\u001b[38;5;241m=\u001b[39m\u001b[38;5;28;01mFalse\u001b[39;00m)\n",
      "Cell \u001b[1;32mIn[12], line 8\u001b[0m, in \u001b[0;36m<lambda>\u001b[1;34m(x)\u001b[0m\n\u001b[0;32m      5\u001b[0m dftrain[\u001b[38;5;124m'\u001b[39m\u001b[38;5;124mvisit_month\u001b[39m\u001b[38;5;124m'\u001b[39m] \u001b[38;5;241m=\u001b[39m dftrain\u001b[38;5;241m.\u001b[39mvisit_date\u001b[38;5;241m.\u001b[39mdt\u001b[38;5;241m.\u001b[39mmonth\n\u001b[0;32m      6\u001b[0m dftrain[\u001b[38;5;124m'\u001b[39m\u001b[38;5;124mhit_month\u001b[39m\u001b[38;5;124m'\u001b[39m] \u001b[38;5;241m=\u001b[39m dftrain\u001b[38;5;241m.\u001b[39mhit_date\u001b[38;5;241m.\u001b[39mdt\u001b[38;5;241m.\u001b[39mmonth\n\u001b[1;32m----> 8\u001b[0m dftrain\u001b[38;5;241m.\u001b[39mloc[:, \u001b[38;5;124m'\u001b[39m\u001b[38;5;124mhit_week\u001b[39m\u001b[38;5;124m'\u001b[39m] \u001b[38;5;241m=\u001b[39m dftrain\u001b[38;5;241m.\u001b[39mapply(\u001b[38;5;28;01mlambda\u001b[39;00m x: \u001b[38;5;241m1\u001b[39m \u001b[38;5;28;01mif\u001b[39;00m \u001b[43mx\u001b[49m\u001b[38;5;241;43m.\u001b[39;49m\u001b[43mhit_date\u001b[49m\u001b[38;5;241;43m.\u001b[39;49m\u001b[43mdt\u001b[49m\u001b[38;5;241m.\u001b[39mday \u001b[38;5;241m<\u001b[39m \u001b[38;5;241m7\u001b[39m  \u001b[38;5;28;01melse\u001b[39;00m\n\u001b[0;32m      9\u001b[0m                                                      \u001b[38;5;241m2\u001b[39m \u001b[38;5;28;01mif\u001b[39;00m x\u001b[38;5;241m.\u001b[39mhit_date\u001b[38;5;241m.\u001b[39mdt\u001b[38;5;241m.\u001b[39mday \u001b[38;5;241m<\u001b[39m \u001b[38;5;241m15\u001b[39m \u001b[38;5;28;01melse\u001b[39;00m\n\u001b[0;32m     10\u001b[0m                                                      \u001b[38;5;241m3\u001b[39m \u001b[38;5;28;01mif\u001b[39;00m x\u001b[38;5;241m.\u001b[39mhit_date\u001b[38;5;241m.\u001b[39mdt\u001b[38;5;241m.\u001b[39mday \u001b[38;5;241m<\u001b[39m \u001b[38;5;241m22\u001b[39m \u001b[38;5;28;01melse\u001b[39;00m \u001b[38;5;241m4\u001b[39m, axis\u001b[38;5;241m=\u001b[39m\u001b[38;5;241m1\u001b[39m)\n\u001b[0;32m     12\u001b[0m dftrain\u001b[38;5;241m.\u001b[39mloc[:, \u001b[38;5;124m'\u001b[39m\u001b[38;5;124mvisit_week\u001b[39m\u001b[38;5;124m'\u001b[39m] \u001b[38;5;241m=\u001b[39m dftrain\u001b[38;5;241m.\u001b[39mapply(\u001b[38;5;28;01mlambda\u001b[39;00m x: \u001b[38;5;241m1\u001b[39m \u001b[38;5;28;01mif\u001b[39;00m x\u001b[38;5;241m.\u001b[39mvisit_date\u001b[38;5;241m.\u001b[39mdt\u001b[38;5;241m.\u001b[39mday \u001b[38;5;241m<\u001b[39m \u001b[38;5;241m7\u001b[39m  \u001b[38;5;28;01melse\u001b[39;00m\n\u001b[0;32m     13\u001b[0m                                                        \u001b[38;5;241m2\u001b[39m \u001b[38;5;28;01mif\u001b[39;00m x\u001b[38;5;241m.\u001b[39mvisit_date\u001b[38;5;241m.\u001b[39mdt\u001b[38;5;241m.\u001b[39mday \u001b[38;5;241m<\u001b[39m \u001b[38;5;241m15\u001b[39m \u001b[38;5;28;01melse\u001b[39;00m\n\u001b[0;32m     14\u001b[0m                                                        \u001b[38;5;241m3\u001b[39m \u001b[38;5;28;01mif\u001b[39;00m x\u001b[38;5;241m.\u001b[39mvisit_date\u001b[38;5;241m.\u001b[39mdt\u001b[38;5;241m.\u001b[39mday \u001b[38;5;241m<\u001b[39m \u001b[38;5;241m22\u001b[39m \u001b[38;5;28;01melse\u001b[39;00m \u001b[38;5;241m4\u001b[39m, axis\u001b[38;5;241m=\u001b[39m\u001b[38;5;241m1\u001b[39m)\n\u001b[0;32m     16\u001b[0m dftrain\u001b[38;5;241m.\u001b[39mloc[:, \u001b[38;5;124m'\u001b[39m\u001b[38;5;124mvisit_time\u001b[39m\u001b[38;5;124m'\u001b[39m] \u001b[38;5;241m=\u001b[39m dftrain\u001b[38;5;241m.\u001b[39mapply(\u001b[38;5;28;01mlambda\u001b[39;00m x: \u001b[38;5;124m'\u001b[39m\u001b[38;5;124mnight\u001b[39m\u001b[38;5;124m'\u001b[39m   \u001b[38;5;28;01mif\u001b[39;00m x\u001b[38;5;241m.\u001b[39mvisit_time\u001b[38;5;241m.\u001b[39mhour \u001b[38;5;241m>\u001b[39m \u001b[38;5;241m0\u001b[39m  \u001b[38;5;129;01mand\u001b[39;00m x\u001b[38;5;241m.\u001b[39mvisit_time\u001b[38;5;241m.\u001b[39mhour \u001b[38;5;241m<\u001b[39m \u001b[38;5;241m7\u001b[39m  \u001b[38;5;28;01melse\u001b[39;00m\n\u001b[0;32m     17\u001b[0m                                                        \u001b[38;5;124m'\u001b[39m\u001b[38;5;124mmorning\u001b[39m\u001b[38;5;124m'\u001b[39m \u001b[38;5;28;01mif\u001b[39;00m x\u001b[38;5;241m.\u001b[39mvisit_time\u001b[38;5;241m.\u001b[39mhour \u001b[38;5;241m>\u001b[39m \u001b[38;5;241m6\u001b[39m  \u001b[38;5;129;01mand\u001b[39;00m x\u001b[38;5;241m.\u001b[39mvisit_time\u001b[38;5;241m.\u001b[39mhour \u001b[38;5;241m<\u001b[39m \u001b[38;5;241m13\u001b[39m \u001b[38;5;28;01melse\u001b[39;00m\n\u001b[0;32m     18\u001b[0m                                                        \u001b[38;5;124m'\u001b[39m\u001b[38;5;124mday\u001b[39m\u001b[38;5;124m'\u001b[39m     \u001b[38;5;28;01mif\u001b[39;00m x\u001b[38;5;241m.\u001b[39mvisit_time\u001b[38;5;241m.\u001b[39mhour \u001b[38;5;241m>\u001b[39m \u001b[38;5;241m12\u001b[39m \u001b[38;5;129;01mand\u001b[39;00m x\u001b[38;5;241m.\u001b[39mvisit_time\u001b[38;5;241m.\u001b[39mhour \u001b[38;5;241m<\u001b[39m \u001b[38;5;241m19\u001b[39m \u001b[38;5;28;01melse\u001b[39;00m \u001b[38;5;124m'\u001b[39m\u001b[38;5;124mevening\u001b[39m\u001b[38;5;124m'\u001b[39m, axis\u001b[38;5;241m=\u001b[39m\u001b[38;5;241m1\u001b[39m)\n",
      "\u001b[1;31mAttributeError\u001b[0m: 'Timestamp' object has no attribute 'dt'"
     ]
    }
   ],
   "source": [
    "#Заменили признак geo_country на бинарный признак country_is_russia со значениями 1 и 0.\n",
    "dftrain['country_is_russia'] = dftrain.apply(lambda x: 1 if x.geo_country == 'Russia' else 0, axis=1)\n",
    "dftrain = dftrain.drop(columns='geo_country')\n",
    "\n",
    "dftrain['visit_month'] = dftrain.visit_date.dt.month\n",
    "dftrain['hit_month'] = dftrain.hit_date.dt.month\n",
    "\n",
    "dftrain.loc[:, 'hit_week'] = dftrain.apply(lambda x: 1 if x.hit_date.day < 7  else\n",
    "                                                     2 if x.hit_date.day < 15 else\n",
    "                                                     3 if x.hit_date.day < 22 else 4, axis=1)\n",
    "\n",
    "dftrain.loc[:, 'visit_week'] = dftrain.apply(lambda x: 1 if x.visit_date.day < 7  else\n",
    "                                                       2 if x.visit_date.day < 15 else\n",
    "                                                       3 if x.visit_date.day < 22 else 4, axis=1)\n",
    "\n",
    "dftrain.loc[:, 'visit_time'] = dftrain.apply(lambda x: 'night'   if x.visit_time.hour > 0  and x.visit_time.hour < 7  else\n",
    "                                                       'morning' if x.visit_time.hour > 6  and x.visit_time.hour < 13 else\n",
    "                                                       'day'     if x.visit_time.hour > 12 and x.visit_time.hour < 19 else 'evening', axis=1)\n",
    "\n",
    "dftrain = dftrain.drop(columns=['visit_date', 'hit_date'])"
   ]
  },
  {
   "cell_type": "markdown",
   "id": "5fff0a0e-f566-48f4-a074-ad36803690b2",
   "metadata": {},
   "source": [
    "Закодировать признаки \\\n",
    "Обучить модели \\\n",
    "Подобрать параметры"
   ]
  },
  {
   "cell_type": "code",
   "execution_count": 3,
   "id": "cdffa497-154e-479a-b09a-1bdf6b2e5557",
   "metadata": {},
   "outputs": [],
   "source": [
    "with open('df_checkpoint.pkl', 'rb') as f:\n",
    "    dftrain = pickle.load(f)"
   ]
  },
  {
   "cell_type": "code",
   "execution_count": 4,
   "id": "62b39b09-cec6-43dc-bb44-de626400e306",
   "metadata": {},
   "outputs": [],
   "source": [
    "X = dftrain.drop(columns='target')\n",
    "y = dftrain.target\n",
    "\n",
    "#Разделим датасет на тренировочную и тестовую выборку\n",
    "Xtrain, Xtest, ytrain, ytest = train_test_split(X, y, stratify=y, test_size=0.2, random_state=42)"
   ]
  },
  {
   "cell_type": "code",
   "execution_count": 5,
   "id": "cca0cb9f-4134-4174-9263-f7a69343e758",
   "metadata": {},
   "outputs": [],
   "source": [
    "#Кодирование непрерывных признаков\n",
    "numeric = ['visit_number', 'hit_number']\n",
    "\n",
    "scaler = StandardScaler()\n",
    "\n",
    "Xtrain[numeric] = scaler.fit_transform(Xtrain[numeric])\n",
    "#-----------------------------------------------------------------------------------------------------------------------------------------\n",
    "#Кодирование категориальных признаков\n",
    "categorical = Xtrain.columns.to_list()\n",
    "for elem in numeric:\n",
    "    categorical.remove(elem)\n",
    "\n",
    "ohe = OneHotEncoder(sparse_output=False, drop='first') \n",
    "\n",
    "Xtrain[ohe.get_feature_names_out()] = ohe.fit_transform(Xtrain[categorical])\n",
    "Xtrain = Xtrain.drop(columns=categorical)"
   ]
  },
  {
   "cell_type": "code",
   "execution_count": 6,
   "id": "497089c7-04df-485a-a0a3-a647614075c8",
   "metadata": {},
   "outputs": [],
   "source": [
    "#Кодирование тестовой выборки\n",
    "Xtest[numeric] = scaler.transform(Xtest[numeric])\n",
    "Xtest[ohe.get_feature_names_out()] = ohe.transform(Xtest[categorical])\n",
    "Xtest = Xtest.drop(columns=categorical)"
   ]
  },
  {
   "cell_type": "markdown",
   "id": "965eecc5-035a-403a-b653-5cca95449a64",
   "metadata": {},
   "source": [
    "## Modeling"
   ]
  },
  {
   "cell_type": "code",
   "execution_count": 7,
   "id": "faa1fdc5-246b-41d3-853d-1523835ce980",
   "metadata": {},
   "outputs": [],
   "source": [
    "tmp1, Xsmall, tmp2, ysmall = train_test_split(Xtrain, ytrain, stratify=ytrain, test_size=0.02, random_state=42)\n",
    "del tmp1\n",
    "del tmp2"
   ]
  },
  {
   "cell_type": "code",
   "execution_count": 8,
   "id": "f0c777bf-9d3c-4929-b16b-55078370f822",
   "metadata": {},
   "outputs": [],
   "source": [
    "Xsmall_train, Xsmall_test, ysmall_train, ysmall_test = train_test_split(Xsmall, ysmall, stratify=ysmall, test_size=0.2, random_state=42)"
   ]
  },
  {
   "cell_type": "code",
   "execution_count": 9,
   "id": "b6a107ba-7123-4188-ab0e-ac2215e1dc29",
   "metadata": {},
   "outputs": [],
   "source": [
    "from sklearn.metrics import roc_auc_score\n",
    "from sklearn.linear_model import LogisticRegression\n",
    "from sklearn.svm import SVC\n",
    "from sklearn.tree import DecisionTreeClassifier\n",
    "from sklearn.ensemble import RandomForestClassifier\n",
    "from sklearn.neural_network import MLPClassifier\n",
    "from sklearn.model_selection import GridSearchCV"
   ]
  },
  {
   "cell_type": "code",
   "execution_count": 101,
   "id": "d1918b68-dc4a-4670-8d02-894d0596400a",
   "metadata": {},
   "outputs": [],
   "source": [
    "import math\n",
    "\n",
    "#расчет диапазона перебора гиперпараметров\n",
    "def params_calculate(start_finish_step, model, param):\n",
    "    if model.get_params()[param] < start_finish_step[2]:\n",
    "        start_finish_step[1] = start_finish_step[2]\n",
    "    else:\n",
    "        start_finish_step[0] = model.get_params()[param] - start_finish_step[2]\n",
    "        start_finish_step[1] = model.get_params()[param] + start_finish_step[2]\n",
    "    start_finish_step[2] = math.ceil((start_finish_step[1] - start_finish_step[0]) / 10)\n",
    "    return start_finish_step\n",
    "\n",
    "#grid template\n",
    "def grid(param_1, param_2, values_1, values_2, model, Xtrain, ytrain, metric):\n",
    "    param_grid = {param_1: values_1, \n",
    "                  param_2: values_2} \n",
    "            \n",
    "    grid_rf = GridSearchCV(model, \n",
    "                            param_grid,\n",
    "                            cv=3, \n",
    "                            scoring=metric, \n",
    "                           )\n",
    "    \n",
    "    grid_search_model = grid_rf.fit(Xtrain, ytrain)\n",
    "    return grid_search_model.best_estimator_"
   ]
  },
  {
   "cell_type": "code",
   "execution_count": 15,
   "id": "f6d34d08-2fbb-4fa1-9126-de6db08f7b11",
   "metadata": {},
   "outputs": [],
   "source": [
    "import time"
   ]
  },
  {
   "cell_type": "code",
   "execution_count": 102,
   "id": "aa69ec29-ebdf-443e-8d5f-2b654a37741e",
   "metadata": {},
   "outputs": [
    {
     "name": "stdout",
     "output_type": "stream",
     "text": [
      "0.8032351230762748\n",
      "0.6959809861686649\n",
      "CPU times: total: 1h 49min 17s\n",
      "Wall time: 14min 56s\n"
     ]
    },
    {
     "data": {
      "text/html": [
       "<style>#sk-container-id-25 {color: black;}#sk-container-id-25 pre{padding: 0;}#sk-container-id-25 div.sk-toggleable {background-color: white;}#sk-container-id-25 label.sk-toggleable__label {cursor: pointer;display: block;width: 100%;margin-bottom: 0;padding: 0.3em;box-sizing: border-box;text-align: center;}#sk-container-id-25 label.sk-toggleable__label-arrow:before {content: \"▸\";float: left;margin-right: 0.25em;color: #696969;}#sk-container-id-25 label.sk-toggleable__label-arrow:hover:before {color: black;}#sk-container-id-25 div.sk-estimator:hover label.sk-toggleable__label-arrow:before {color: black;}#sk-container-id-25 div.sk-toggleable__content {max-height: 0;max-width: 0;overflow: hidden;text-align: left;background-color: #f0f8ff;}#sk-container-id-25 div.sk-toggleable__content pre {margin: 0.2em;color: black;border-radius: 0.25em;background-color: #f0f8ff;}#sk-container-id-25 input.sk-toggleable__control:checked~div.sk-toggleable__content {max-height: 200px;max-width: 100%;overflow: auto;}#sk-container-id-25 input.sk-toggleable__control:checked~label.sk-toggleable__label-arrow:before {content: \"▾\";}#sk-container-id-25 div.sk-estimator input.sk-toggleable__control:checked~label.sk-toggleable__label {background-color: #d4ebff;}#sk-container-id-25 div.sk-label input.sk-toggleable__control:checked~label.sk-toggleable__label {background-color: #d4ebff;}#sk-container-id-25 input.sk-hidden--visually {border: 0;clip: rect(1px 1px 1px 1px);clip: rect(1px, 1px, 1px, 1px);height: 1px;margin: -1px;overflow: hidden;padding: 0;position: absolute;width: 1px;}#sk-container-id-25 div.sk-estimator {font-family: monospace;background-color: #f0f8ff;border: 1px dotted black;border-radius: 0.25em;box-sizing: border-box;margin-bottom: 0.5em;}#sk-container-id-25 div.sk-estimator:hover {background-color: #d4ebff;}#sk-container-id-25 div.sk-parallel-item::after {content: \"\";width: 100%;border-bottom: 1px solid gray;flex-grow: 1;}#sk-container-id-25 div.sk-label:hover label.sk-toggleable__label {background-color: #d4ebff;}#sk-container-id-25 div.sk-serial::before {content: \"\";position: absolute;border-left: 1px solid gray;box-sizing: border-box;top: 0;bottom: 0;left: 50%;z-index: 0;}#sk-container-id-25 div.sk-serial {display: flex;flex-direction: column;align-items: center;background-color: white;padding-right: 0.2em;padding-left: 0.2em;position: relative;}#sk-container-id-25 div.sk-item {position: relative;z-index: 1;}#sk-container-id-25 div.sk-parallel {display: flex;align-items: stretch;justify-content: center;background-color: white;position: relative;}#sk-container-id-25 div.sk-item::before, #sk-container-id-25 div.sk-parallel-item::before {content: \"\";position: absolute;border-left: 1px solid gray;box-sizing: border-box;top: 0;bottom: 0;left: 50%;z-index: -1;}#sk-container-id-25 div.sk-parallel-item {display: flex;flex-direction: column;z-index: 1;position: relative;background-color: white;}#sk-container-id-25 div.sk-parallel-item:first-child::after {align-self: flex-end;width: 50%;}#sk-container-id-25 div.sk-parallel-item:last-child::after {align-self: flex-start;width: 50%;}#sk-container-id-25 div.sk-parallel-item:only-child::after {width: 0;}#sk-container-id-25 div.sk-dashed-wrapped {border: 1px dashed gray;margin: 0 0.4em 0.5em 0.4em;box-sizing: border-box;padding-bottom: 0.4em;background-color: white;}#sk-container-id-25 div.sk-label label {font-family: monospace;font-weight: bold;display: inline-block;line-height: 1.2em;}#sk-container-id-25 div.sk-label-container {text-align: center;}#sk-container-id-25 div.sk-container {/* jupyter's `normalize.less` sets `[hidden] { display: none; }` but bootstrap.min.css set `[hidden] { display: none !important; }` so we also need the `!important` here to be able to override the default hidden behavior on the sphinx rendered scikit-learn.org. See: https://github.com/scikit-learn/scikit-learn/issues/21755 */display: inline-block !important;position: relative;}#sk-container-id-25 div.sk-text-repr-fallback {display: none;}</style><div id=\"sk-container-id-25\" class=\"sk-top-container\"><div class=\"sk-text-repr-fallback\"><pre>RandomForestClassifier(class_weight=&#x27;balanced&#x27;, criterion=&#x27;entropy&#x27;,\n",
       "                       max_depth=6, n_estimators=119, n_jobs=-1)</pre><b>In a Jupyter environment, please rerun this cell to show the HTML representation or trust the notebook. <br />On GitHub, the HTML representation is unable to render, please try loading this page with nbviewer.org.</b></div><div class=\"sk-container\" hidden><div class=\"sk-item\"><div class=\"sk-estimator sk-toggleable\"><input class=\"sk-toggleable__control sk-hidden--visually\" id=\"sk-estimator-id-25\" type=\"checkbox\" checked><label for=\"sk-estimator-id-25\" class=\"sk-toggleable__label sk-toggleable__label-arrow\">RandomForestClassifier</label><div class=\"sk-toggleable__content\"><pre>RandomForestClassifier(class_weight=&#x27;balanced&#x27;, criterion=&#x27;entropy&#x27;,\n",
       "                       max_depth=6, n_estimators=119, n_jobs=-1)</pre></div></div></div></div></div>"
      ],
      "text/plain": [
       "RandomForestClassifier(class_weight='balanced', criterion='entropy',\n",
       "                       max_depth=6, n_estimators=119, n_jobs=-1)"
      ]
     },
     "execution_count": 102,
     "metadata": {},
     "output_type": "execute_result"
    }
   ],
   "source": [
    "%%time\n",
    "\n",
    "model_rf = RandomForestClassifier(class_weight='balanced', n_jobs=-1)\n",
    "\n",
    "metric = 'roc_auc'\n",
    "estimators_start_finish_step = [1, 302, 50]\n",
    "max_depth_start_finish_step = [2, 103, 30]\n",
    "\n",
    "for _ in range(3):\n",
    "    model_rf = grid('n_estimators', \n",
    "                    'max_depth', \n",
    "                    range(estimators_start_finish_step[0], estimators_start_finish_step[1], estimators_start_finish_step[2]), \n",
    "                    range(max_depth_start_finish_step[0], max_depth_start_finish_step[1], max_depth_start_finish_step[2]),\n",
    "                    model_rf,\n",
    "                    Xsmall_train,\n",
    "                    ysmall_train,\n",
    "                    metric)\n",
    "    \n",
    "    estimators_start_finish_step = params_calculate(estimators_start_finish_step, model_rf, 'n_estimators')\n",
    "    max_depth_start_finish_step = params_calculate(max_depth_start_finish_step, model_rf, 'max_depth')\n",
    "\n",
    "model_rf = grid('max_features', \n",
    "                'criterion', \n",
    "                ['sqrt', 'log2', None], \n",
    "                ['gini', 'entropy', 'log_loss'],\n",
    "                model_rf,\n",
    "                Xsmall_train, \n",
    "                ysmall_train,\n",
    "                metric)\n",
    "\n",
    "print(roc_auc_score(ysmall_train, model_rf.predict_proba(Xsmall_train)[:,1]))\n",
    "print(roc_auc_score(ysmall_test, model_rf.predict_proba(Xsmall_test)[:,1]))\n",
    "model_rf"
   ]
  },
  {
   "cell_type": "code",
   "execution_count": null,
   "id": "953f0775-be72-4329-aae6-fc1d724f89fa",
   "metadata": {},
   "outputs": [],
   "source": [
    "model_rf.fit(Xtrain, ytrain)"
   ]
  },
  {
   "cell_type": "markdown",
   "id": "56e46b67-10d2-4d70-8bde-8675ea708af5",
   "metadata": {},
   "source": [
    "Написать функции препроцессинга \\\n",
    "Обучить модель на всей выборке \\\n",
    "Протестировать на валидационной выборке"
   ]
  },
  {
   "cell_type": "code",
   "execution_count": null,
   "id": "e610dd5c-2c5b-4750-a9d9-8a855755fac9",
   "metadata": {},
   "outputs": [],
   "source": []
  },
  {
   "cell_type": "markdown",
   "id": "567f6d1b-0c11-4889-80f3-814d4c03300b",
   "metadata": {},
   "source": [
    "Подобрать гиперпараметры для нейросети"
   ]
  },
  {
   "cell_type": "code",
   "execution_count": 35,
   "id": "628bcce5-7bbb-471c-b28e-f1a606b1babe",
   "metadata": {},
   "outputs": [
    {
     "name": "stdout",
     "output_type": "stream",
     "text": [
      "0.9243700395539993\n",
      "0.6402971386452013\n"
     ]
    }
   ],
   "source": [
    "#mlp нейронка\n",
    "mlp = MLPClassifier()\n",
    "mlp.fit(Xsmall_train, ysmall_train)\n",
    "\n",
    "print(roc_auc_score(ysmall_train, mlp.predict_proba(Xsmall_train)[:,1]))\n",
    "print(roc_auc_score(ysmall_test, mlp.predict_proba(Xsmall_test)[:,1]))"
   ]
  },
  {
   "cell_type": "code",
   "execution_count": null,
   "id": "9eafd2e8-cbc5-4acc-baa2-3f7f578a1ffe",
   "metadata": {},
   "outputs": [],
   "source": []
  },
  {
   "cell_type": "code",
   "execution_count": null,
   "id": "86579584-cbe4-4262-b9c6-cbc9b86c3814",
   "metadata": {},
   "outputs": [],
   "source": []
  },
  {
   "cell_type": "code",
   "execution_count": null,
   "id": "9c4502d1-1615-43c5-9d58-99b7477f1605",
   "metadata": {},
   "outputs": [],
   "source": []
  },
  {
   "cell_type": "code",
   "execution_count": 104,
   "id": "b411f113-5c0a-41c3-9f42-bf43b4c8d97b",
   "metadata": {},
   "outputs": [
    {
     "ename": "TypeError",
     "evalue": "MLPClassifier.__init__() got an unexpected keyword argument 'n_jobs'",
     "output_type": "error",
     "traceback": [
      "\u001b[1;31m---------------------------------------------------------------------------\u001b[0m",
      "\u001b[1;31mTypeError\u001b[0m                                 Traceback (most recent call last)",
      "Cell \u001b[1;32mIn[104], line 3\u001b[0m\n\u001b[0;32m      1\u001b[0m \u001b[38;5;66;03m#mlp нейронка\u001b[39;00m\n\u001b[1;32m----> 3\u001b[0m mlp \u001b[38;5;241m=\u001b[39m \u001b[43mMLPClassifier\u001b[49m\u001b[43m(\u001b[49m\u001b[43mn_jobs\u001b[49m\u001b[38;5;241;43m=\u001b[39;49m\u001b[38;5;241;43m-\u001b[39;49m\u001b[38;5;241;43m1\u001b[39;49m\u001b[43m)\u001b[49m\n\u001b[0;32m      4\u001b[0m mlp\u001b[38;5;241m.\u001b[39mfit(Xtrain, ytrain)\n\u001b[0;32m      6\u001b[0m \u001b[38;5;28mprint\u001b[39m(roc_auc_score(ytrain, mlp\u001b[38;5;241m.\u001b[39mpredict_proba(Xtrain)[:,\u001b[38;5;241m1\u001b[39m]))\n",
      "\u001b[1;31mTypeError\u001b[0m: MLPClassifier.__init__() got an unexpected keyword argument 'n_jobs'"
     ]
    }
   ],
   "source": [
    "#mlp нейронка\n",
    "\n",
    "mlp = MLPClassifier()\n",
    "mlp.fit(Xtrain, ytrain)\n",
    "\n",
    "print(roc_auc_score(ytrain, mlp.predict_proba(Xtrain)[:,1]))\n",
    "print(roc_auc_score(ytest, mlp.predict_proba(Xtest)[:,1]))"
   ]
  },
  {
   "cell_type": "code",
   "execution_count": null,
   "id": "a8dd0e42-d770-4159-bb87-a83f0a41fb33",
   "metadata": {},
   "outputs": [],
   "source": [
    "#grid_1\n",
    "param_grid = {'hidden_layer_sizes': , \n",
    "              'solver': ['lbfgs', 'sgd', 'adam'], \n",
    "              'activation': ['identity', 'logistic', 'tanh', 'relu']}\n",
    "            \n",
    "grid_rf = GridSearchCV(mlp, \n",
    "                        param_grid,\n",
    "                        cv=3, \n",
    "                        scoring='roc_auc', \n",
    "                       )\n",
    "\n",
    "grid_search_rf = grid_rf.fit(Xtrain, ytrain)\n",
    "\n",
    "#grid_2\n",
    "param_grid = {'alpha': np.arange(0.0001, 0.01, 0.001), \n",
    "              'batch_size': range(10, 500, 25)}\n",
    "            \n",
    "grid_rf = GridSearchCV(grid_search_rf.best_estimator_, \n",
    "                        param_grid,\n",
    "                        cv=3, \n",
    "                        scoring='roc_auc', \n",
    "                       )\n",
    "\n",
    "grid_search_rf = grid_rf.fit(Xtrain, ytrain)\n",
    "mlp = grid_search_rf.best_estimator_"
   ]
  },
  {
   "cell_type": "code",
   "execution_count": null,
   "id": "b8018c61-ec92-44d2-8205-a2b76882a875",
   "metadata": {},
   "outputs": [],
   "source": [
    "print(roc_auc_score(ytrain, mlp.predict_proba(Xtrain)[:,1]))\n",
    "print(roc_auc_score(ytest, mlp.predict_proba(Xtest)[:,1]))"
   ]
  },
  {
   "cell_type": "code",
   "execution_count": null,
   "id": "0fb4255a-1146-4f44-b44b-cea994e3eaa3",
   "metadata": {},
   "outputs": [],
   "source": []
  }
 ],
 "metadata": {
  "kernelspec": {
   "display_name": "Python 3 (ipykernel)",
   "language": "python",
   "name": "python3"
  },
  "language_info": {
   "codemirror_mode": {
    "name": "ipython",
    "version": 3
   },
   "file_extension": ".py",
   "mimetype": "text/x-python",
   "name": "python",
   "nbconvert_exporter": "python",
   "pygments_lexer": "ipython3",
   "version": "3.10.1"
  }
 },
 "nbformat": 4,
 "nbformat_minor": 5
}
